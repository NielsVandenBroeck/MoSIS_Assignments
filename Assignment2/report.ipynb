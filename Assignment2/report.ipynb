{
 "cells": [
  {
   "cell_type": "markdown",
   "metadata": {},
   "source": [
    "# Integration Methods\n",
    "## 1\n",
    "### Basic inigrator tester (niet in verslag)\n",
    "##### used to test if integrator blocks work with the clock as input (x = x)"
   ]
  },
  {
   "cell_type": "code",
   "metadata": {
    "ExecuteTime": {
     "end_time": "2024-11-12T12:12:05.857061Z",
     "start_time": "2024-11-12T12:12:05.849777Z"
    }
   },
   "source": [
    "from CBD.src.pyCBD.lib.std import TimeBlock, ConstantBlock\n",
    "from pyCBD.simulator import Simulator\n",
    "from DrawioFiles.generated.Backwards_Euler_Method import *\n",
    "\n",
    "class basic_intregral_tester(CBD):\n",
    "    def __init__(self, block_name, block_to_test):\n",
    "        super().__init__(block_name, input_ports=[], output_ports=['OUT1'])\n",
    "\n",
    "        # Create the Blocks\n",
    "        self.addBlock(TimeBlock(\"Clock_item\"))\n",
    "        self.addBlock(ConstantBlock(\"Constant_item\", 0))\n",
    "        self.addBlock(block_to_test)\n",
    "\n",
    "        # Create the Connections\n",
    "        self.addConnection(\"Clock_item\", block_to_test.getBlockName(), output_port_name=\"OUT1\", input_port_name=\"IN1\")\n",
    "        self.addConnection(\"Constant_item\", block_to_test.getBlockName(), output_port_name='OUT1', input_port_name=\"IC\")\n",
    "        self.addConnection(block_to_test.getBlockName(), \"OUT1\", output_port_name='OUT1')"
   ],
   "outputs": [],
   "execution_count": 8
  },
  {
   "cell_type": "markdown",
   "metadata": {},
   "source": [
    "### Backwards Euler\n",
    "##### First generate the python using the draw.io file \\\n",
    "![image info](./DrawioFiles/ImageExports/Backwards_Euler_Method.drawio.png) \\\n",
    "Remake image:"
   ]
  },
  {
   "metadata": {
    "ExecuteTime": {
     "end_time": "2024-11-12T12:00:28.215495712Z",
     "start_time": "2024-11-12T11:28:21.865336Z"
    }
   },
   "cell_type": "code",
   "source": "! drawio -x -f png -o ./DrawioFiles/ImageExports/Backwards_Euler_Method.drawio.png ./DrawioFiles/Backwards_Euler_Method.drawio",
   "outputs": [
    {
     "name": "stdout",
     "output_type": "stream",
     "text": [
      "Checking for beta autoupdate feature for deb/rpm distributions\r\n",
      "Found package-type: deb\r\n",
      "./DrawioFiles/Backwards_Euler_Method.drawio -> ./DrawioFiles/ImageExports/Backwards_Euler_Method.drawio.png\r\n"
     ]
    }
   ],
   "execution_count": 7
  },
  {
   "metadata": {
    "ExecuteTime": {
     "end_time": "2024-11-12T11:28:24.963820Z",
     "start_time": "2024-11-12T11:28:24.807170Z"
    }
   },
   "cell_type": "code",
   "source": "! python DrawioConvert/__main__.py -F CBD -e backwards_euler_method -sSrgv ./DrawioFiles/Backwards_Euler_Method.drawio -E delta=1 -d ./DrawioFiles/generated/ -f",
   "outputs": [
    {
     "name": "stdout",
     "output_type": "stream",
     "text": [
      "[  DEBUG  ] Loading Formalism...\r\n",
      "[  DEBUG  ] Loaded Formalism.\r\n",
      "[  DEBUG  ] Generated './DrawioFiles/generated/Backwards_Euler_Method.py'.\r\n",
      "[  DEBUG  ] Generated './DrawioFiles/generated/Backwards_Euler_Method_experiment.py'.\r\n",
      "[  DEBUG  ] Done.\r\n"
     ]
    }
   ],
   "execution_count": 8
  },
  {
   "cell_type": "code",
   "metadata": {
    "ExecuteTime": {
     "end_time": "2024-11-12T11:28:24.991868Z",
     "start_time": "2024-11-12T11:28:24.982825Z"
    }
   },
   "source": [
    "from DrawioFiles.generated.Backwards_Euler_Method import *\n",
    "DELTA_T = 1\n",
    "\n",
    "backwards_euler_tester = backwards_eurler_method(\"backwards_euler_tester\")\n",
    "cbd = basic_intregral_tester(\"tester\", backwards_euler_tester)\n",
    "\n",
    "comperisionBlock = basic_intregral_tester(\"tester\", IntegratorBlock(\"Intigrator\"))\n",
    "\n",
    "# Run the Simulation\n",
    "sim = Simulator(cbd)\n",
    "sim.setDeltaT(DELTA_T)\n",
    "sim.run(10)\n",
    "\n",
    "sim = Simulator(comperisionBlock)\n",
    "sim.setDeltaT(DELTA_T)\n",
    "sim.run(10)\n",
    "\n",
    "\n",
    "print(cbd.getSignals())\n",
    "\n",
    "correct = True\n",
    "for i, compareItem in enumerate(cbd.getSignals()['OUT1']):\n",
    "    if compareItem != comperisionBlock.getSignals()['OUT1'][i]:\n",
    "        correct = False\n",
    "if correct:\n",
    "    print(\"Backward euler is correct\")\n",
    "else:\n",
    "    print(\"Backward euler is incorect\")\n",
    "# TODO: Process Your Simulation Results"
   ],
   "outputs": [
    {
     "name": "stdout",
     "output_type": "stream",
     "text": [
      "{'OUT1': [Signal(time=0.0, value=0), Signal(time=1.0, value=0.0), Signal(time=2.0, value=1.0), Signal(time=3.0, value=3.0), Signal(time=4.0, value=6.0), Signal(time=5.0, value=10.0), Signal(time=6.0, value=15.0), Signal(time=7.0, value=21.0), Signal(time=8.0, value=28.0), Signal(time=9.0, value=36.0)]}\n",
      "Backward euler is correct\n"
     ]
    }
   ],
   "execution_count": 9
  },
  {
   "metadata": {},
   "cell_type": "markdown",
   "source": [
    "### Forward Euler\n",
    "##### First generate the python using the draw.io file\n",
    "![image info](./DrawioFiles/ImageExports/Forward_Euler_Method.drawio.png) \\\n",
    "remake image:"
   ]
  },
  {
   "metadata": {
    "ExecuteTime": {
     "end_time": "2024-11-12T11:28:27.984502Z",
     "start_time": "2024-11-12T11:28:25.046948Z"
    }
   },
   "cell_type": "code",
   "source": "! drawio -x -f png -o ./DrawioFiles/ImageExports/Forward_Euler_Method.drawio.png ./DrawioFiles/Forward_Euler_Method.drawio",
   "outputs": [
    {
     "name": "stdout",
     "output_type": "stream",
     "text": [
      "Checking for beta autoupdate feature for deb/rpm distributions\r\n",
      "Found package-type: deb\r\n",
      "./DrawioFiles/Forward_Euler_Method.drawio -> ./DrawioFiles/ImageExports/Forward_Euler_Method.drawio.png\r\n"
     ]
    }
   ],
   "execution_count": 10
  },
  {
   "metadata": {
    "ExecuteTime": {
     "end_time": "2024-11-12T11:28:28.164042Z",
     "start_time": "2024-11-12T11:28:28.003979Z"
    }
   },
   "cell_type": "code",
   "source": "! python DrawioConvert/__main__.py -F CBD -e forward_euler_method -sSrgv ./DrawioFiles/Forward_Euler_Method.drawio -E delta=1 -d ./DrawioFiles/generated/ -f",
   "outputs": [
    {
     "name": "stdout",
     "output_type": "stream",
     "text": [
      "[  DEBUG  ] Loading Formalism...\r\n",
      "[  DEBUG  ] Loaded Formalism.\r\n",
      "[  DEBUG  ] Generated './DrawioFiles/generated/Forward_Euler_Method.py'.\r\n",
      "[  DEBUG  ] Generated './DrawioFiles/generated/Forward_Euler_Method_experiment.py'.\r\n",
      "[  DEBUG  ] Done.\r\n"
     ]
    }
   ],
   "execution_count": 11
  },
  {
   "metadata": {
    "ExecuteTime": {
     "end_time": "2024-11-12T11:28:28.172130Z",
     "start_time": "2024-11-12T11:28:28.168941Z"
    }
   },
   "cell_type": "code",
   "source": [
    "from DrawioFiles.generated.Forward_Euler_Method import *\n",
    "DELTA_T = 1\n",
    "\n",
    "forward_euler = forward_euler_method(\"forward_euler_method\")\n",
    "cbd = basic_intregral_tester(\"tester\", forward_euler)\n",
    "\n",
    "# Run the Simulation\n",
    "sim = Simulator(cbd)\n",
    "sim.setDeltaT(DELTA_T)\n",
    "sim.run(10)\n",
    "print(cbd.getSignals())"
   ],
   "outputs": [
    {
     "name": "stdout",
     "output_type": "stream",
     "text": [
      "{'OUT1': [Signal(time=0.0, value=0.0), Signal(time=1.0, value=1.0), Signal(time=2.0, value=3.0), Signal(time=3.0, value=6.0), Signal(time=4.0, value=10.0), Signal(time=5.0, value=15.0), Signal(time=6.0, value=21.0), Signal(time=7.0, value=28.0), Signal(time=8.0, value=36.0), Signal(time=9.0, value=45.0)]}\n"
     ]
    }
   ],
   "execution_count": 12
  },
  {
   "metadata": {},
   "cell_type": "markdown",
   "source": [
    "### Trapiziod rule\n",
    "##### First generate the python using the draw.io file\n",
    "![image info](./DrawioFiles/ImageExports/Trapezoid_Rule.drawio.png)\n",
    "Remake image"
   ]
  },
  {
   "metadata": {
    "ExecuteTime": {
     "end_time": "2024-11-12T11:28:31.192800Z",
     "start_time": "2024-11-12T11:28:28.218918Z"
    }
   },
   "cell_type": "code",
   "source": "! drawio -x -f png -o ./DrawioFiles/ImageExports/Trapezoid_Rule.drawio.png ./DrawioFiles/Trapezoid_Rule.drawio",
   "outputs": [
    {
     "name": "stdout",
     "output_type": "stream",
     "text": [
      "Checking for beta autoupdate feature for deb/rpm distributions\r\n",
      "Found package-type: deb\r\n",
      "./DrawioFiles/Trapezoid_Rule.drawio -> ./DrawioFiles/ImageExports/Trapezoid_Rule.drawio.png\r\n"
     ]
    }
   ],
   "execution_count": 13
  },
  {
   "metadata": {
    "ExecuteTime": {
     "end_time": "2024-11-12T11:28:31.371080Z",
     "start_time": "2024-11-12T11:28:31.212908Z"
    }
   },
   "cell_type": "code",
   "source": "! python DrawioConvert/__main__.py -F CBD -e trapezoid_rule -sSrgv ./DrawioFiles/Trapezoid_Rule.drawio -E delta=1 -d ./DrawioFiles/generated/ -f",
   "outputs": [
    {
     "name": "stdout",
     "output_type": "stream",
     "text": [
      "[  DEBUG  ] Loading Formalism...\r\n",
      "[  DEBUG  ] Loaded Formalism.\r\n",
      "[  DEBUG  ] Generated './DrawioFiles/generated/Trapezoid_Rule.py'.\r\n",
      "[  DEBUG  ] Generated './DrawioFiles/generated/Trapezoid_Rule_experiment.py'.\r\n",
      "[  DEBUG  ] Done.\r\n"
     ]
    }
   ],
   "execution_count": 14
  },
  {
   "metadata": {
    "ExecuteTime": {
     "end_time": "2024-11-12T11:28:31.404853Z",
     "start_time": "2024-11-12T11:28:31.392592Z"
    }
   },
   "cell_type": "code",
   "source": [
    "from DrawioFiles.generated.Trapezoid_Rule import *\n",
    "from pyCBD.simulator import Simulator\n",
    "        \n",
    "DELTA_T = 1\n",
    "\n",
    "trapezoid = trapezoid_rule(\"trapezoid_rule\")\n",
    "cbd = basic_intregral_tester(\"trapezoid_euler_method\", trapezoid)\n",
    "\n",
    "# Run the Simulation\n",
    "sim = Simulator(cbd)\n",
    "sim.setDeltaT(DELTA_T)\n",
    "sim.run(10)\n",
    "print(cbd.getSignals())"
   ],
   "outputs": [
    {
     "name": "stdout",
     "output_type": "stream",
     "text": [
      "{'OUT1': [Signal(time=0.0, value=0.0), Signal(time=1.0, value=0.5), Signal(time=2.0, value=2.0), Signal(time=3.0, value=4.5), Signal(time=4.0, value=8.0), Signal(time=5.0, value=12.5), Signal(time=6.0, value=18.0), Signal(time=7.0, value=24.5), Signal(time=8.0, value=32.0), Signal(time=9.0, value=40.5)]}\n"
     ]
    }
   ],
   "execution_count": 15
  },
  {
   "metadata": {},
   "cell_type": "markdown",
   "source": [
    "## 2 function g(t)\n",
    "##### First generate the python using the draw.io file\n",
    "![image info](./DrawioFiles/ImageExports/g_Function.drawio.png)\n",
    "Remake image:"
   ]
  },
  {
   "metadata": {
    "ExecuteTime": {
     "end_time": "2024-11-12T11:28:34.380398Z",
     "start_time": "2024-11-12T11:28:31.444450Z"
    }
   },
   "cell_type": "code",
   "source": "! drawio -x -f png -o ./DrawioFiles/ImageExports/g_Function.drawio.png ./DrawioFiles/g_Function.drawio",
   "outputs": [
    {
     "name": "stdout",
     "output_type": "stream",
     "text": [
      "Checking for beta autoupdate feature for deb/rpm distributions\r\n",
      "Found package-type: deb\r\n",
      "./DrawioFiles/g_Function.drawio -> ./DrawioFiles/ImageExports/g_Function.drawio.png\r\n"
     ]
    }
   ],
   "execution_count": 16
  },
  {
   "metadata": {
    "ExecuteTime": {
     "end_time": "2024-11-12T11:28:34.548270Z",
     "start_time": "2024-11-12T11:28:34.393306Z"
    }
   },
   "cell_type": "code",
   "source": "! python DrawioConvert/__main__.py -F CBD -e g_function -sSrgv ./DrawioFiles/g_Function.drawio -E delta=1 -d ./DrawioFiles/generated/ -f",
   "outputs": [
    {
     "name": "stdout",
     "output_type": "stream",
     "text": [
      "[  DEBUG  ] Loading Formalism...\r\n",
      "[  DEBUG  ] Loaded Formalism.\r\n",
      "[  DEBUG  ] Generated './DrawioFiles/generated/g_Function.py'.\r\n",
      "[  DEBUG  ] Generated './DrawioFiles/generated/g_Function_experiment.py'.\r\n",
      "[  DEBUG  ] Done.\r\n"
     ]
    }
   ],
   "execution_count": 17
  },
  {
   "metadata": {},
   "cell_type": "markdown",
   "source": "#### Create CBD to connect integrators with g(f)"
  },
  {
   "metadata": {
    "ExecuteTime": {
     "end_time": "2024-11-12T11:28:34.565152Z",
     "start_time": "2024-11-12T11:28:34.559705Z"
    }
   },
   "cell_type": "code",
   "source": [
    "from CBD.src.pyCBD.lib.std import TimeBlock, ConstantBlock\n",
    "from pyCBD.simulator import Simulator\n",
    "from DrawioFiles.generated.g_Function import *\n",
    "\n",
    "\n",
    "class g_function_integrator_tester(CBD):\n",
    "    def __init__(self, block_name, integrator):\n",
    "        super().__init__(block_name, input_ports=[], output_ports=['OUT1', 'Gt'])\n",
    "\n",
    "        # Create the Blocks\n",
    "        self.addBlock(TimeBlock(\"Clock_item\"))\n",
    "        self.addBlock(g_function(\"g_function\"))\n",
    "        self.addBlock(integrator)\n",
    "        #self.addBlock(g_function(\"g_function_initial\"))\n",
    "        \n",
    "        constBlock = ConstantBlock(\"Constant_item\")\n",
    "        constBlock.setValue(0)\n",
    "        self.addBlock(constBlock)\n",
    "        \n",
    "        # Create the Connections\n",
    "        self.addConnection(\"Clock_item\", \"g_function\", output_port_name=\"OUT1\", input_port_name=\"T\")\n",
    "        #self.addConnection(\"Constant_item\", \"g_function_initial\", output_port_name='OUT1', input_port_name=\"T\")\n",
    "        self.addConnection(\"Constant_item\", integrator.getBlockName(), output_port_name='OUT1', input_port_name=\"IC\")\n",
    "        self.addConnection(\"g_function\", integrator.getBlockName(), output_port_name='OUT1', input_port_name=\"IN1\")\n",
    "        self.addConnection(integrator.getBlockName(), \"OUT1\", output_port_name='OUT1')\n",
    "        self.addConnection(\"g_function\", \"Gt\", output_port_name='OUT1')\n",
    "\n"
   ],
   "outputs": [],
   "execution_count": 18
  },
  {
   "metadata": {},
   "cell_type": "markdown",
   "source": "#### Test g(f) on Backwards Euler Method"
  },
  {
   "metadata": {
    "ExecuteTime": {
     "end_time": "2024-11-12T11:28:36.602911Z",
     "start_time": "2024-11-12T11:28:34.605772Z"
    }
   },
   "cell_type": "code",
   "source": [
    "from DrawioFiles.generated.Backwards_Euler_Method import *\n",
    "DELTA_T = 0.01\n",
    "\n",
    "backwards_euler = backwards_eurler_method(\"backwards_euler\")\n",
    "cbd = g_function_integrator_tester(\"tester\", backwards_euler)\n",
    "\n",
    "\n",
    "# Run the Simulation\n",
    "sim = Simulator(cbd)\n",
    "sim.setDeltaT(DELTA_T)\n",
    "sim.run(100)\n",
    "\n",
    "\n",
    "comperisionBlock = g_function_integrator_tester(\"tester1\", IntegratorBlock(\"Intigrator\"))\n",
    "\n",
    "sim = Simulator(comperisionBlock)\n",
    "sim.setDeltaT(DELTA_T)\n",
    "sim.run(100)\n",
    "\n",
    "\n",
    "correct = True\n",
    "# \n",
    "# for i, compareItem in enumerate(cbd.getSignals()['OUT1']):\n",
    "#     print(compareItem,\" != \", comperisionBlock.getSignals()['OUT1'][i])\n",
    "#     if compareItem != comperisionBlock.getSignals()['OUT1'][i]:\n",
    "#         correct = False\n",
    "print(cbd.getSignals()['OUT1'].pop(), comperisionBlock.getSignals()['OUT1'].pop())\n",
    "if correct:\n",
    "    print(\"Backward euler is correct\")\n",
    "else:\n",
    "    print(\"Backward euler is incorect\")"
   ],
   "outputs": [
    {
     "name": "stdout",
     "output_type": "stream",
     "text": [
      "Signal(time=99.99000000001425, value=3.2134592966575024) Signal(time=99.99000000001425, value=3.2134592966575024)\n",
      "Backward euler is correct\n"
     ]
    }
   ],
   "execution_count": 19
  },
  {
   "metadata": {},
   "cell_type": "markdown",
   "source": "#### Test g(f) on Forward Euler Method"
  },
  {
   "metadata": {
    "ExecuteTime": {
     "end_time": "2024-11-12T11:28:36.790368Z",
     "start_time": "2024-11-12T11:28:36.647613Z"
    }
   },
   "cell_type": "code",
   "source": [
    "from DrawioFiles.generated.Backwards_Euler_Method import *\n",
    "DELTA_T = 0.1\n",
    "\n",
    "forward_euler = forward_euler_method(\"forward_euler\")\n",
    "cbd = g_function_integrator_tester(\"tester\", forward_euler)\n",
    "\n",
    "# Run the Simulation\n",
    "sim = Simulator(cbd)\n",
    "sim.setDeltaT(DELTA_T)\n",
    "sim.run(100)\n",
    "# \n",
    "# for i, compareItem in enumerate(cbd.getSignals()['OUT1']):\n",
    "#     print(compareItem,\" != \", comperisionBlock.getSignals()['OUT1'][i])\n",
    "#     if compareItem != comperisionBlock.getSignals()['OUT1'][i]:\n",
    "#         correct = False\n",
    "print(cbd.getSignals()['OUT1'].pop())"
   ],
   "outputs": [
    {
     "name": "stdout",
     "output_type": "stream",
     "text": [
      "Signal(time=99.8999999999986, value=3.2009310596645353)\n"
     ]
    }
   ],
   "execution_count": 20
  },
  {
   "metadata": {},
   "cell_type": "markdown",
   "source": "#### Test g(f) on Trapiziod rule"
  },
  {
   "metadata": {
    "ExecuteTime": {
     "end_time": "2024-11-12T11:28:36.805225Z",
     "start_time": "2024-11-12T11:28:36.796610Z"
    }
   },
   "cell_type": "code",
   "source": [
    "from DrawioFiles.generated.Backwards_Euler_Method import *\n",
    "DELTA_T = 1\n",
    "\n",
    "trapezoid = trapezoid_rule(\"trapezoid\")\n",
    "cbd = g_function_integrator_tester(\"tester\", trapezoid)\n",
    "\n",
    "# Run the Simulation\n",
    "sim = Simulator(cbd)\n",
    "sim.setDeltaT(DELTA_T)\n",
    "sim.run(100)\n",
    "\n",
    "correct = True\n",
    "# \n",
    "# for i, compareItem in enumerate(cbd.getSignals()['OUT1']):\n",
    "#     print(compareItem,\" != \", comperisionBlock.getSignals()['OUT1'][i])\n",
    "#     if compareItem != comperisionBlock.getSignals()['OUT1'][i]:\n",
    "#         correct = False\n",
    "print(cbd.getSignals()['OUT1'].pop())\n",
    "if correct:\n",
    "    print(\"Backward euler is correct\")\n",
    "else:\n",
    "    print(\"Backward euler is incorect\")"
   ],
   "outputs": [
    {
     "name": "stdout",
     "output_type": "stream",
     "text": [
      "Signal(time=99.0, value=3.2059393691829374)\n",
      "Backward euler is correct\n"
     ]
    }
   ],
   "execution_count": 21
  },
  {
   "metadata": {},
   "cell_type": "markdown",
   "source": "### Task 3 Calculate for delta t"
  },
  {
   "metadata": {
    "ExecuteTime": {
     "end_time": "2024-11-12T12:00:28.165501Z",
     "start_time": "2024-11-12T11:46:40.390990Z"
    }
   },
   "cell_type": "code",
   "source": [
    "for time in [ 0.1, 0.01, 0.001]:\n",
    "\tforward_euler = forward_euler_method(\"forward_euler\")\n",
    "\tforward_euler_cbd_tester = g_function_integrator_tester(\"forward_euler_cbd_tester\", forward_euler)\n",
    "\t\n",
    "\tbackward_euler = backwards_eurler_method(\"backwards_euler\")\n",
    "\tbackward_euler_cbd_tester = g_function_integrator_tester(\"backbard_euler_cbd_tester\", backward_euler)\n",
    "\t\n",
    "\ttrapezoid = trapezoid_rule(\"trapezoid\")\n",
    "\ttrapezoid_cbd_tester = g_function_integrator_tester(\"trapezoid_cbd_tester\", trapezoid)\n",
    "\tDELTA_T = time\n",
    "\tsim = Simulator(forward_euler_cbd_tester)\n",
    "\tsim.setDeltaT(DELTA_T)\n",
    "\tsim.run(100)\n",
    "    \n",
    "\tsim = Simulator(backward_euler_cbd_tester)\n",
    "\tsim.setDeltaT(DELTA_T)\n",
    "\tsim.run(100)\n",
    "    \n",
    "\tsim = Simulator(trapezoid_cbd_tester)\n",
    "\tsim.setDeltaT(DELTA_T)\n",
    "\tsim.run(100)\n",
    "    \n",
    "\tprint(\"-----------------------------\")\n",
    "\tprint(\"delta t:\", DELTA_T)\n",
    "\tprint(\"backward:\", backward_euler_cbd_tester.getSignals()['OUT1'].pop())\n",
    "\tprint(\"forward:\", forward_euler_cbd_tester.getSignals()['OUT1'].pop())\n",
    "\tprint(\"trapezoid: \", trapezoid_cbd_tester.getSignals()['OUT1'].pop())\n",
    "\tprint(\"-----------------------------\")\n",
    "    \n"
   ],
   "outputs": [
    {
     "name": "stdout",
     "output_type": "stream",
     "text": [
      "-----------------------------\n",
      "delta t: 0.1\n",
      "backward: Signal(time=99.8999999999986, value=3.222190908877023)\n",
      "forward: Signal(time=99.8999999999986, value=3.2009310596645353)\n",
      "trapezoid:  Signal(time=99.8999999999986, value=3.2115609842707813)\n",
      "-----------------------------\n",
      "-----------------------------\n",
      "delta t: 0.01\n",
      "backward: Signal(time=99.99000000001425, value=3.2134592966575024)\n",
      "forward: Signal(time=99.99000000001425, value=3.2113332284618306)\n",
      "trapezoid:  Signal(time=99.99000000001425, value=3.2123962625596754)\n",
      "-----------------------------\n"
     ]
    },
    {
     "name": "stderr",
     "output_type": "stream",
     "text": [
      "\n",
      "KeyboardInterrupt\n",
      "\n"
     ]
    }
   ],
   "execution_count": 36
  },
  {
   "metadata": {},
   "cell_type": "markdown",
   "source": [
    "# Co-simulation\n",
    "\n",
    "#### Sub-task 1: Plant FMU from Modelica Done (see Co-Simulation folder)"
   ]
  },
  {
   "metadata": {},
   "cell_type": "markdown",
   "source": [
    "#### Sub-task 2: Sub-task 2: PID Controller in PyCBD\n",
    "First generate image of PID controller"
   ]
  },
  {
   "metadata": {},
   "cell_type": "markdown",
   "source": "![image info](./DrawioFiles/ImageExports/PID_controller.drawio.png)"
  },
  {
   "metadata": {
    "ExecuteTime": {
     "end_time": "2024-11-12T13:22:44.985051Z",
     "start_time": "2024-11-12T13:22:41.842634Z"
    }
   },
   "cell_type": "code",
   "source": "! drawio -x -f png -o ./DrawioFiles/ImageExports/PID_controller.drawio.png ./DrawioFiles/PID_controller.drawio",
   "outputs": [
    {
     "name": "stdout",
     "output_type": "stream",
     "text": [
      "Checking for beta autoupdate feature for deb/rpm distributions\r\n",
      "Found package-type: deb\r\n",
      "./DrawioFiles/PID_controller.drawio -> ./DrawioFiles/ImageExports/PID_controller.drawio.png\r\n"
     ]
    }
   ],
   "execution_count": 8
  },
  {
   "metadata": {},
   "cell_type": "markdown",
   "source": "Create python code"
  },
  {
   "metadata": {
    "ExecuteTime": {
     "end_time": "2024-11-12T14:10:37.444737Z",
     "start_time": "2024-11-12T14:10:37.287198Z"
    }
   },
   "cell_type": "code",
   "source": "! python DrawioConvert/__main__.py -F CBD -e g_function -sSrgv ./DrawioFiles/PID_controller.drawio -E delta=1 -d ./DrawioFiles/generated/ -f",
   "outputs": [
    {
     "name": "stdout",
     "output_type": "stream",
     "text": [
      "[  DEBUG  ] Loading Formalism...\r\n",
      "[  DEBUG  ] Loaded Formalism.\r\n",
      "[  DEBUG  ] Generated './DrawioFiles/generated/PID_controller.py'.\r\n",
      "[  DEBUG  ] Generated './DrawioFiles/generated/PID_controller_experiment.py'.\r\n",
      "[  DEBUG  ] Done.\r\n"
     ]
    }
   ],
   "execution_count": 12
  },
  {
   "metadata": {},
   "cell_type": "markdown",
   "source": "Test PID block (prints list of values, compare with Modelica block) #TODO momenteel niet hetzelfde idk why"
  },
  {
   "metadata": {
    "ExecuteTime": {
     "end_time": "2024-11-12T12:57:12.090584Z",
     "start_time": "2024-11-12T12:57:12.078083Z"
    }
   },
   "cell_type": "code",
   "source": [
    "from DrawioFiles.generated.PID_controller import *\n",
    "\n",
    "class PID_controller_Tester(CBD):\n",
    "    def __init__(self, block_name, block_to_test):\n",
    "        super().__init__(block_name, input_ports=[], output_ports=['OUT1'])\n",
    "\n",
    "        # Create the Blocks\n",
    "        self.addBlock(ConstantBlock(\"INPUT_ITEM\", 20))\n",
    "        self.addBlock(block_to_test)\n",
    "\n",
    "        # Create the Connections\n",
    "        self.addConnection(\"INPUT_ITEM\", block_to_test.getBlockName(), output_port_name=\"OUT1\", input_port_name=\"IN\")\n",
    "        self.addConnection(block_to_test.getBlockName(), \"OUT1\", output_port_name='OUT')\n",
    "\n",
    "from DrawioFiles.generated.Backwards_Euler_Method import *\n",
    "DELTA_T = 1\n",
    "\n",
    "pid_controller = PID_controller(\"trapezoid\")\n",
    "cbd = PID_controller_Tester(\"tester\", pid_controller)\n",
    "\n",
    "# Run the Simulation\n",
    "sim = Simulator(cbd)\n",
    "sim.setDeltaT(DELTA_T)\n",
    "sim.run(100)\n",
    "\n",
    "print(cbd.getSignals())"
   ],
   "outputs": [
    {
     "name": "stdout",
     "output_type": "stream",
     "text": [
      "{'OUT1': [Signal(time=0.0, value=-10.0), Signal(time=1.0, value=-10.0), Signal(time=2.0, value=-10.0), Signal(time=3.0, value=-10.0), Signal(time=4.0, value=-10.0), Signal(time=5.0, value=-10.0), Signal(time=6.0, value=-10.0), Signal(time=7.0, value=-10.0), Signal(time=8.0, value=-10.0), Signal(time=9.0, value=-10.0), Signal(time=10.0, value=-10.0), Signal(time=11.0, value=-10.0), Signal(time=12.0, value=-10.0), Signal(time=13.0, value=-10.0), Signal(time=14.0, value=-10.0), Signal(time=15.0, value=-10.0), Signal(time=16.0, value=-10.0), Signal(time=17.0, value=-10.0), Signal(time=18.0, value=-10.0), Signal(time=19.0, value=-10.0), Signal(time=20.0, value=-10.0), Signal(time=21.0, value=-10.0), Signal(time=22.0, value=-10.0), Signal(time=23.0, value=-10.0), Signal(time=24.0, value=-10.0), Signal(time=25.0, value=-10.0), Signal(time=26.0, value=-10.0), Signal(time=27.0, value=-10.0), Signal(time=28.0, value=-10.0), Signal(time=29.0, value=-10.0), Signal(time=30.0, value=-10.0), Signal(time=31.0, value=-10.0), Signal(time=32.0, value=-10.0), Signal(time=33.0, value=-10.0), Signal(time=34.0, value=-10.0), Signal(time=35.0, value=-10.0), Signal(time=36.0, value=-10.0), Signal(time=37.0, value=-10.0), Signal(time=38.0, value=-10.0), Signal(time=39.0, value=-10.0), Signal(time=40.0, value=-10.0), Signal(time=41.0, value=-10.0), Signal(time=42.0, value=-10.0), Signal(time=43.0, value=-10.0), Signal(time=44.0, value=-10.0), Signal(time=45.0, value=-10.0), Signal(time=46.0, value=-10.0), Signal(time=47.0, value=-10.0), Signal(time=48.0, value=-10.0), Signal(time=49.0, value=-10.0), Signal(time=50.0, value=-10.0), Signal(time=51.0, value=-10.0), Signal(time=52.0, value=-10.0), Signal(time=53.0, value=-10.0), Signal(time=54.0, value=-10.0), Signal(time=55.0, value=-10.0), Signal(time=56.0, value=-10.0), Signal(time=57.0, value=-10.0), Signal(time=58.0, value=-10.0), Signal(time=59.0, value=-10.0), Signal(time=60.0, value=-10.0), Signal(time=61.0, value=-10.0), Signal(time=62.0, value=-10.0), Signal(time=63.0, value=-10.0), Signal(time=64.0, value=-10.0), Signal(time=65.0, value=-10.0), Signal(time=66.0, value=-10.0), Signal(time=67.0, value=-10.0), Signal(time=68.0, value=-10.0), Signal(time=69.0, value=-10.0), Signal(time=70.0, value=-10.0), Signal(time=71.0, value=-10.0), Signal(time=72.0, value=-10.0), Signal(time=73.0, value=-10.0), Signal(time=74.0, value=-10.0), Signal(time=75.0, value=-10.0), Signal(time=76.0, value=-10.0), Signal(time=77.0, value=-10.0), Signal(time=78.0, value=-10.0), Signal(time=79.0, value=-10.0), Signal(time=80.0, value=-10.0), Signal(time=81.0, value=-10.0), Signal(time=82.0, value=-10.0), Signal(time=83.0, value=-10.0), Signal(time=84.0, value=-10.0), Signal(time=85.0, value=-10.0), Signal(time=86.0, value=-10.0), Signal(time=87.0, value=-10.0), Signal(time=88.0, value=-10.0), Signal(time=89.0, value=-10.0), Signal(time=90.0, value=-10.0), Signal(time=91.0, value=-10.0), Signal(time=92.0, value=-10.0), Signal(time=93.0, value=-10.0), Signal(time=94.0, value=-10.0), Signal(time=95.0, value=-10.0), Signal(time=96.0, value=-10.0), Signal(time=97.0, value=-10.0), Signal(time=98.0, value=-10.0), Signal(time=99.0, value=-10.0)]}\n"
     ]
    }
   ],
   "execution_count": 33
  },
  {
   "metadata": {},
   "cell_type": "markdown",
   "source": "Now create a FMU of the controller CBD by running CBD2FMU/src/generator.py #TODO warnings a problem???"
  },
  {
   "metadata": {
    "ExecuteTime": {
     "end_time": "2024-11-12T14:10:45.305082Z",
     "start_time": "2024-11-12T14:10:44.811206Z"
    }
   },
   "cell_type": "code",
   "source": [
    "! python CBD2FMU/src/generator.py\n",
    "! mv PID_controller.fmu ./Co-simulation/Controller.fmu"
   ],
   "outputs": [
    {
     "name": "stdout",
     "output_type": "stream",
     "text": [
      "WARNING: Could not hide 'PID_controller.IN', as it is required to be visible in FMU.\r\n",
      "WARNING: Could not hide 'PID_controller.OUT', as it is required to be visible in FMU.\r\n",
      "Compiling platform binary...\r\n",
      "/tmp/tmp4yo5hrps/sources\r\n",
      "gcc -c -fPIC -I. -I'/home/steen/Documents/Local projects/MoSIS_Assignments/Assignment2/.venv/lib/python3.12/site-packages/fmpy/c-code'  all.c lsolve.c && gcc -static-libgcc -shared -oPID_controller.so *.o -lm\r\n"
     ]
    }
   ],
   "execution_count": 13
  },
  {
   "metadata": {},
   "cell_type": "markdown",
   "source": "Run the orchestration_script that combines the Plant and controller"
  },
  {
   "metadata": {
    "ExecuteTime": {
     "end_time": "2024-11-12T13:10:17.278747Z",
     "start_time": "2024-11-12T13:10:16.764304Z"
    }
   },
   "cell_type": "code",
   "source": [
    "# script: Co-simulation/orchestration_script.py\n",
    "\n",
    "from fmpy import simulate_fmu\n",
    "from fmpy.fmucontainer import create_fmu_container, Connection, Configuration, Component, Variable\n",
    "from fmpy.validation import validate_fmu\n",
    "from fmpy.util import compile_platform_binary\n",
    "from fmpy.model_description import DefaultExperiment\n",
    "\n",
    "\n",
    "if __name__ == \"__main__\":\n",
    "\n",
    "\tconfiguration = Configuration(\n",
    "\t\tfmiVersion='2.0',\n",
    "\t\tdefaultExperiment=DefaultExperiment(\n",
    "\t\t\tstartTime='0',\n",
    "\t\t\tstopTime='20',\n",
    "\t\t\ttolerance='1e-7',\n",
    "\t\t\tstepSize='0.001'\n",
    "\t\t),\n",
    "\t\tparallelDoStep=False,\n",
    "\t\tvariables = [\n",
    "\t\t\tVariable(\n",
    "\t\t\t\ttype='Real',\n",
    "\t\t\t\tinitial='calculated',\n",
    "\t\t\t\tvariability='continuous',\n",
    "\t\t\t\tcausality='output',\n",
    "\t\t\t\tname='x',\n",
    "\t\t\t\tmapping=[('plant', 'output_con')]\n",
    "\t\t\t),\n",
    "\t\t\tVariable(\n",
    "\t\t\t\ttype='Real',\n",
    "\t\t\t\tinitial='calculated',\n",
    "\t\t\t\tvariability='continuous',\n",
    "\t\t\t\tcausality='output',\n",
    "\t\t\t\tname='theta',\n",
    "\t\t\t\tmapping=[('plant', 'out_angular_disp')]\n",
    "\t\t\t)\n",
    "\t\t],\n",
    "\t\tcomponents=[\n",
    "\t\t\tComponent(\n",
    "\t\t\t\tfilename='Co-simulation/Plant.fmu',\n",
    "\t\t\t\tname='plant'\n",
    "\t\t\t),\n",
    "\t\t\tComponent(\n",
    "\t\t\t\tfilename='Co-simulation/Controller.fmu',\n",
    "\t\t\t\tname='pid'\n",
    "\t\t\t)\n",
    "\t\t],\n",
    "\t\tconnections=[\n",
    "\t\t\tConnection('pid', 'PID_controller.OUT', 'plant', 'input_con'),\n",
    "\t\t\tConnection('plant', 'output_con', 'pid', 'PID_controller.IN')\n",
    "\t\t]\n",
    "\t)\n",
    "\n",
    "\tcreate_fmu_container(configuration, \"Co-simulation/Container.fmu\")\n",
    "\tproblems = validate_fmu(\"Co-simulation/Container.fmu\")\n",
    "\tif problems:\n",
    "\t\tprint(\"PROBLEMS ENCOUNTERED WITH COMBINED FMU:\")\n",
    "\t\tprint(problems)\n",
    "\t\texit()\n",
    "\n",
    "\tresult = simulate_fmu(\"Co-simulation/Container.fmu\",\n",
    "\t\t\t\t\t\t  #debug_logging=True,\n",
    "\t\t\t\t\t\t  #fmi_call_logger=print,\n",
    "\t\t\t\t\t\t  stop_time=20,\n",
    "\t\t\t\t\t\t  output_interval=0.001)\n",
    "\n",
    "\timport matplotlib.pyplot as plt\n",
    "\n",
    "\tplt.plot([r[0] for r in result], [r[2] for r in result], label=\"x_tgt\")\n",
    "\t#plt.plot([r[0] for r in result], [r[3] for r in result], label=\"x_ego\")\n",
    "\tplt.legend()\n",
    "\tplt.show()\n",
    "\tplt.plot([r[0] for r in result], [r[1] for r in result], label=\"x_err\")\n",
    "\tplt.legend()\n",
    "\tplt.show()\n"
   ],
   "outputs": [
    {
     "data": {
      "text/plain": [
       "<Figure size 640x480 with 1 Axes>"
      ],
      "image/png": "[encoded data removed]"
     },
     "metadata": {},
     "output_type": "display_data"
    },
    {
     "data": {
      "text/plain": [
       "<Figure size 640x480 with 1 Axes>"
      ],
      "image/png": "[encoded data removed]"
     },
     "metadata": {},
     "output_type": "display_data"
    }
   ],
   "execution_count": 1
  },
  {
   "metadata": {},
   "cell_type": "markdown",
   "source": "To get results combined with previuos exercise run parameter_tuning.py from Assignment 1 #TODO these are WRONG"
  }
 ],
 "metadata": {
  "language_info": {
   "name": "python"
  },
  "kernelspec": {
   "name": "python3",
   "language": "python",
   "display_name": "Python 3 (ipykernel)"
  }
 },
 "nbformat": 4,
 "nbformat_minor": 2
}
