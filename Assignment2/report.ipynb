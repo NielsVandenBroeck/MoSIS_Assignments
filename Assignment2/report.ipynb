{
 "cells": [
  {
   "cell_type": "markdown",
   "metadata": {},
   "source": [
    "# Integration Methods\n",
    "## 1\n",
    "### Basic inigrator tester (niet in verslag)\n",
    "##### used to test if integrator blocks work with the clock as input (x = x)"
   ]
  },
  {
   "cell_type": "code",
   "metadata": {
    "ExecuteTime": {
     "end_time": "2024-11-05T18:44:48.958264Z",
     "start_time": "2024-11-05T18:44:48.948959Z"
    }
   },
   "source": [
    "from CBD.src.pyCBD.lib.std import TimeBlock, ConstantBlock\n",
    "from pyCBD.simulator import Simulator\n",
    "from DrawioFiles.generated.Backwards_Euler_Method import *\n",
    "\n",
    "class basic_intregral_tester(CBD):\n",
    "    def __init__(self, block_name, block_to_test):\n",
    "        super().__init__(block_name, input_ports=[], output_ports=['OUT1'])\n",
    "\n",
    "        # Create the Blocks\n",
    "        self.addBlock(TimeBlock(\"Clock_item\"))\n",
    "        self.addBlock(ConstantBlock(\"Constant_item\"))\n",
    "        self.addBlock(block_to_test)\n",
    "\n",
    "        # Create the Connections\n",
    "        self.addConnection(\"Clock_item\", block_to_test.getBlockName(), output_port_name=\"OUT1\", input_port_name=\"IN1\")\n",
    "        self.addConnection(\"Constant_item\", block_to_test.getBlockName(), output_port_name='OUT1', input_port_name=\"IC\")\n",
    "        self.addConnection(block_to_test.getBlockName(), \"OUT1\", output_port_name='OUT1')"
   ],
   "outputs": [],
   "execution_count": 5
  },
  {
   "cell_type": "markdown",
   "metadata": {},
   "source": [
    "### Backwards Euler\n",
    "##### First generate the python using the draw.io file \\\n",
    "![image info](./DrawioFiles/ImageExports/Backwards_Euler_Method.drawio.png) \\\n",
    "Remake image:"
   ]
  },
  {
   "metadata": {
    "ExecuteTime": {
     "end_time": "2024-11-05T18:44:51.988852Z",
     "start_time": "2024-11-05T18:44:49.047001Z"
    }
   },
   "cell_type": "code",
   "source": "! drawio -x -f png -o ./DrawioFiles/ImageExports/Backwards_Euler_Method.drawio.png ./DrawioFiles/Backwards_Euler_Method.drawio",
   "outputs": [
    {
     "name": "stdout",
     "output_type": "stream",
     "text": [
      "Checking for beta autoupdate feature for deb/rpm distributions\r\n",
      "Found package-type: deb\r\n",
      "./DrawioFiles/Backwards_Euler_Method.drawio -> ./DrawioFiles/ImageExports/Backwards_Euler_Method.drawio.png\r\n"
     ]
    }
   ],
   "execution_count": 6
  },
  {
   "metadata": {
    "ExecuteTime": {
     "end_time": "2024-11-05T18:44:52.172279Z",
     "start_time": "2024-11-05T18:44:52.004480Z"
    }
   },
   "cell_type": "code",
   "source": "! python DrawioConvert/__main__.py -F CBD -e backwards_euler_method -sSrgv ./DrawioFiles/Backwards_Euler_Method.drawio -E delta=1 -d ./DrawioFiles/generated/ -f",
   "outputs": [
    {
     "name": "stdout",
     "output_type": "stream",
     "text": [
      "[  DEBUG  ] Loading Formalism...\r\n",
      "[  DEBUG  ] Loaded Formalism.\r\n",
      "[  DEBUG  ] Generated './DrawioFiles/generated/Backwards_Euler_Method.py'.\r\n",
      "[  DEBUG  ] Generated './DrawioFiles/generated/Backwards_Euler_Method_experiment.py'.\r\n",
      "[  DEBUG  ] Done.\r\n"
     ]
    }
   ],
   "execution_count": 7
  },
  {
   "cell_type": "code",
   "metadata": {
    "ExecuteTime": {
     "end_time": "2024-11-05T18:44:52.196135Z",
     "start_time": "2024-11-05T18:44:52.185164Z"
    }
   },
   "source": [
    "from DrawioFiles.generated.Backwards_Euler_Method import *\n",
    "DELTA_T = 1\n",
    "\n",
    "backwards_euler_tester = backwards_eurler_method(\"backwards_euler_tester\")\n",
    "cbd = basic_intregral_tester(\"tester\", backwards_euler_tester)\n",
    "\n",
    "comperisionBlock = basic_intregral_tester(\"tester\", IntegratorBlock(\"Intigrator\"))\n",
    "\n",
    "# Run the Simulation\n",
    "sim = Simulator(cbd)\n",
    "sim.setDeltaT(DELTA_T)\n",
    "sim.run(10)\n",
    "\n",
    "sim = Simulator(comperisionBlock)\n",
    "sim.setDeltaT(DELTA_T)\n",
    "sim.run(10)\n",
    "\n",
    "\n",
    "print(cbd.getSignals())\n",
    "\n",
    "correct = True\n",
    "for i, compareItem in enumerate(cbd.getSignals()['OUT1']):\n",
    "    if compareItem != comperisionBlock.getSignals()['OUT1'][i]:\n",
    "        correct = False\n",
    "if correct:\n",
    "    print(\"Backward euler is correct\")\n",
    "else:\n",
    "    print(\"Backward euler is incorect\")\n",
    "# TODO: Process Your Simulation Results"
   ],
   "outputs": [
    {
     "name": "stdout",
     "output_type": "stream",
     "text": [
      "{'OUT1': [Signal(time=0.0, value=0.0), Signal(time=1.0, value=0.0), Signal(time=2.0, value=1.0), Signal(time=3.0, value=3.0), Signal(time=4.0, value=6.0), Signal(time=5.0, value=10.0), Signal(time=6.0, value=15.0), Signal(time=7.0, value=21.0), Signal(time=8.0, value=28.0), Signal(time=9.0, value=36.0)]}\n",
      "Backward euler is correct\n"
     ]
    }
   ],
   "execution_count": 8
  },
  {
   "metadata": {},
   "cell_type": "markdown",
   "source": [
    "### Forward Euler\n",
    "##### First generate the python using the draw.io file\n",
    "![image info](./DrawioFiles/ImageExports/Forward_Euler_Method.drawio.png) \\\n",
    "remake image:"
   ]
  },
  {
   "metadata": {
    "ExecuteTime": {
     "end_time": "2024-11-05T18:44:55.154761Z",
     "start_time": "2024-11-05T18:44:52.249243Z"
    }
   },
   "cell_type": "code",
   "source": "! drawio -x -f png -o ./DrawioFiles/ImageExports/Forward_Euler_Method.drawio.png ./DrawioFiles/Forward_Euler_Method.drawio",
   "outputs": [
    {
     "name": "stdout",
     "output_type": "stream",
     "text": [
      "Checking for beta autoupdate feature for deb/rpm distributions\r\n",
      "Found package-type: deb\r\n",
      "./DrawioFiles/Forward_Euler_Method.drawio -> ./DrawioFiles/ImageExports/Forward_Euler_Method.drawio.png\r\n"
     ]
    }
   ],
   "execution_count": 9
  },
  {
   "metadata": {
    "ExecuteTime": {
     "end_time": "2024-11-05T18:44:55.332208Z",
     "start_time": "2024-11-05T18:44:55.164833Z"
    }
   },
   "cell_type": "code",
   "source": "! python DrawioConvert/__main__.py -F CBD -e forward_euler_method -sSrgv ./DrawioFiles/Forward_Euler_Method.drawio -E delta=1 -d ./DrawioFiles/generated/ -f",
   "outputs": [
    {
     "name": "stdout",
     "output_type": "stream",
     "text": [
      "[  DEBUG  ] Loading Formalism...\r\n",
      "[  DEBUG  ] Loaded Formalism.\r\n",
      "[  DEBUG  ] Generated './DrawioFiles/generated/Forward_Euler_Method.py'.\r\n",
      "[  DEBUG  ] Generated './DrawioFiles/generated/Forward_Euler_Method_experiment.py'.\r\n",
      "[  DEBUG  ] Done.\r\n"
     ]
    }
   ],
   "execution_count": 10
  },
  {
   "metadata": {
    "ExecuteTime": {
     "end_time": "2024-11-05T18:44:55.340471Z",
     "start_time": "2024-11-05T18:44:55.337188Z"
    }
   },
   "cell_type": "code",
   "source": [
    "from DrawioFiles.generated.Forward_Euler_Method import *\n",
    "DELTA_T = 1\n",
    "\n",
    "forward_euler = forward_euler_method(\"forward_euler_method\")\n",
    "cbd = basic_intregral_tester(\"tester\", forward_euler)\n",
    "\n",
    "# Run the Simulation\n",
    "sim = Simulator(cbd)\n",
    "sim.setDeltaT(DELTA_T)\n",
    "sim.run(10)\n",
    "print(cbd.getSignals())"
   ],
   "outputs": [
    {
     "name": "stdout",
     "output_type": "stream",
     "text": [
      "{'OUT1': [Signal(time=0.0, value=0.0), Signal(time=1.0, value=1.0), Signal(time=2.0, value=3.0), Signal(time=3.0, value=6.0), Signal(time=4.0, value=10.0), Signal(time=5.0, value=15.0), Signal(time=6.0, value=21.0), Signal(time=7.0, value=28.0), Signal(time=8.0, value=36.0), Signal(time=9.0, value=45.0)]}\n"
     ]
    }
   ],
   "execution_count": 11
  },
  {
   "metadata": {},
   "cell_type": "markdown",
   "source": [
    "### Trapiziod rule\n",
    "##### First generate the python using the draw.io file\n",
    "![image info](./DrawioFiles/ImageExports/Trapezoid_Rule.drawio.png)\n",
    "Remake image"
   ]
  },
  {
   "metadata": {
    "ExecuteTime": {
     "end_time": "2024-11-05T18:44:58.360459Z",
     "start_time": "2024-11-05T18:44:55.385439Z"
    }
   },
   "cell_type": "code",
   "source": "! drawio -x -f png -o ./DrawioFiles/ImageExports/Trapezoid_Rule.drawio.png ./DrawioFiles/Trapezoid_Rule.drawio",
   "outputs": [
    {
     "name": "stdout",
     "output_type": "stream",
     "text": [
      "Checking for beta autoupdate feature for deb/rpm distributions\r\n",
      "Found package-type: deb\r\n",
      "./DrawioFiles/Trapezoid_Rule.drawio -> ./DrawioFiles/ImageExports/Trapezoid_Rule.drawio.png\r\n"
     ]
    }
   ],
   "execution_count": 12
  },
  {
   "metadata": {
    "ExecuteTime": {
     "end_time": "2024-11-05T18:44:58.533641Z",
     "start_time": "2024-11-05T18:44:58.371132Z"
    }
   },
   "cell_type": "code",
   "source": "! python DrawioConvert/__main__.py -F CBD -e trapezoid_rule -sSrgv ./DrawioFiles/Trapezoid_Rule.drawio -E delta=1 -d ./DrawioFiles/generated/ -f",
   "outputs": [
    {
     "name": "stdout",
     "output_type": "stream",
     "text": [
      "[  DEBUG  ] Loading Formalism...\r\n",
      "[  DEBUG  ] Loaded Formalism.\r\n",
      "[  DEBUG  ] Generated './DrawioFiles/generated/Trapezoid_Rule.py'.\r\n",
      "[  DEBUG  ] Generated './DrawioFiles/generated/Trapezoid_Rule_experiment.py'.\r\n",
      "[  DEBUG  ] Done.\r\n"
     ]
    }
   ],
   "execution_count": 13
  },
  {
   "metadata": {
    "ExecuteTime": {
     "end_time": "2024-11-05T18:44:58.553206Z",
     "start_time": "2024-11-05T18:44:58.545209Z"
    }
   },
   "cell_type": "code",
   "source": [
    "from DrawioFiles.generated.Trapezoid_Rule import *\n",
    "from pyCBD.simulator import Simulator\n",
    "        \n",
    "DELTA_T = 1\n",
    "\n",
    "trapezoid = trapezoid_rule(\"trapezoid_rule\")\n",
    "cbd = basic_intregral_tester(\"trapezoid_euler_method\", trapezoid)\n",
    "\n",
    "# Run the Simulation\n",
    "sim = Simulator(cbd)\n",
    "sim.setDeltaT(DELTA_T)\n",
    "sim.run(10)\n",
    "print(cbd.getSignals())"
   ],
   "outputs": [
    {
     "name": "stdout",
     "output_type": "stream",
     "text": [
      "{'OUT1': [Signal(time=0.0, value=0.0), Signal(time=1.0, value=0.5), Signal(time=2.0, value=2.0), Signal(time=3.0, value=4.5), Signal(time=4.0, value=8.0), Signal(time=5.0, value=12.5), Signal(time=6.0, value=18.0), Signal(time=7.0, value=24.5), Signal(time=8.0, value=32.0), Signal(time=9.0, value=40.5)]}\n"
     ]
    }
   ],
   "execution_count": 14
  },
  {
   "metadata": {},
   "cell_type": "markdown",
   "source": [
    "## 2 function g(t)\n",
    "##### First generate the python using the draw.io file\n",
    "![image info](./DrawioFiles/ImageExports/g_Function.drawio.png)\n",
    "Remake image:"
   ]
  },
  {
   "metadata": {
    "ExecuteTime": {
     "end_time": "2024-11-05T18:45:01.671768Z",
     "start_time": "2024-11-05T18:44:58.602179Z"
    }
   },
   "cell_type": "code",
   "source": "! drawio -x -f png -o ./DrawioFiles/ImageExports/g_Function.drawio.png ./DrawioFiles/g_Function.drawio",
   "outputs": [
    {
     "name": "stdout",
     "output_type": "stream",
     "text": [
      "Checking for beta autoupdate feature for deb/rpm distributions\r\n",
      "Found package-type: deb\r\n",
      "./DrawioFiles/g_Function.drawio -> ./DrawioFiles/ImageExports/g_Function.drawio.png\r\n"
     ]
    }
   ],
   "execution_count": 15
  },
  {
   "metadata": {
    "ExecuteTime": {
     "end_time": "2024-11-05T18:45:01.840823Z",
     "start_time": "2024-11-05T18:45:01.683374Z"
    }
   },
   "cell_type": "code",
   "source": "! python DrawioConvert/__main__.py -F CBD -e g_function -sSrgv ./DrawioFiles/g_Function.drawio -E delta=1 -d ./DrawioFiles/generated/ -f",
   "outputs": [
    {
     "name": "stdout",
     "output_type": "stream",
     "text": [
      "[  DEBUG  ] Loading Formalism...\r\n",
      "[  DEBUG  ] Loaded Formalism.\r\n",
      "[  DEBUG  ] Generated './DrawioFiles/generated/g_Function.py'.\r\n",
      "[  DEBUG  ] Generated './DrawioFiles/generated/g_Function_experiment.py'.\r\n",
      "[  DEBUG  ] Done.\r\n"
     ]
    }
   ],
   "execution_count": 16
  },
  {
   "metadata": {},
   "cell_type": "markdown",
   "source": "#### Create CBD to connect integrators with g(f)"
  },
  {
   "metadata": {
    "ExecuteTime": {
     "end_time": "2024-11-05T18:53:27.339111Z",
     "start_time": "2024-11-05T18:53:27.335217Z"
    }
   },
   "cell_type": "code",
   "source": [
    "from CBD.src.pyCBD.lib.std import TimeBlock, ConstantBlock\n",
    "from pyCBD.simulator import Simulator\n",
    "from DrawioFiles.generated.g_Function import *\n",
    "\n",
    "\n",
    "class g_function_integrator_tester(CBD):\n",
    "    def __init__(self, block_name, integrator):\n",
    "        super().__init__(block_name, input_ports=[], output_ports=['OUT1', 'Gt'])\n",
    "\n",
    "        # Create the Blocks\n",
    "        self.addBlock(TimeBlock(\"Clock_item\"))\n",
    "        self.addBlock(g_function(\"g_function\"))\n",
    "        self.addBlock(integrator)\n",
    "        \n",
    "        constBlock = ConstantBlock(\"Constant_item\")\n",
    "        constBlock.setValue(0)\n",
    "        self.addBlock(constBlock)\n",
    "        \n",
    "        # Create the Connections\n",
    "        self.addConnection(\"Clock_item\", \"g_function\", output_port_name=\"OUT1\", input_port_name=\"T\")\n",
    "        self.addConnection(\"Constant_item\", integrator.getBlockName(), output_port_name='OUT1', input_port_name=\"IC\")\n",
    "        self.addConnection(\"g_function\", integrator.getBlockName(), output_port_name='OUT1', input_port_name=\"IN1\")\n",
    "        self.addConnection(integrator.getBlockName(), \"OUT1\", output_port_name='OUT1')\n",
    "        self.addConnection(\"g_function\", \"Gt\", output_port_name='OUT1')\n",
    "\n"
   ],
   "outputs": [],
   "execution_count": 20
  },
  {
   "metadata": {},
   "cell_type": "markdown",
   "source": "#### Test g(f) on Backwards Euler Method"
  },
  {
   "metadata": {
    "ExecuteTime": {
     "end_time": "2024-11-05T18:53:28.822805Z",
     "start_time": "2024-11-05T18:53:28.813295Z"
    }
   },
   "cell_type": "code",
   "source": [
    "from DrawioFiles.generated.Backwards_Euler_Method import *\n",
    "DELTA_T = 1\n",
    "\n",
    "backwards_euler = backwards_eurler_method(\"backwards_euler_tester\")\n",
    "cbd = g_function_integrator_tester(\"tester\", backwards_euler)\n",
    "\n",
    "# Run the Simulation\n",
    "sim = Simulator(cbd)\n",
    "sim.setDeltaT(DELTA_T)\n",
    "sim.run(100)\n",
    "print(cbd.getSignals()['OUT1'])"
   ],
   "outputs": [
    {
     "name": "stdout",
     "output_type": "stream",
     "text": [
      "[Signal(time=0.0, value=0), Signal(time=1.0, value=0.2222222222222222), Signal(time=2.0, value=0.4097222222222222), Signal(time=3.0, value=0.5697222222222222), Signal(time=4.0, value=0.7086111111111111), Signal(time=5.0, value=0.8310600907029478), Signal(time=6.0, value=0.9404350907029478), Signal(time=7.0, value=1.0392005228017132), Signal(time=8.0, value=1.1292005228017132), Signal(time=9.0, value=1.2118451509008867), Signal(time=10.0, value=1.2882340397897756), Signal(time=11.0, value=1.3592399569495388), Signal(time=12.0, value=1.4255664875617837), Signal(time=13.0, value=1.487788709784006), Signal(time=14.0, value=1.546382459784006), Signal(time=15.0, value=1.6017457815833138), Signal(time=16.0, value=1.654214917385783), Signal(time=17.0, value=1.7040764132306583), Signal(time=18.0, value=1.7515764132306584), Signal(time=19.0, value=1.7969278871535608), Signal(time=20.0, value=1.840316316905627), Signal(time=21.0, value=1.8819042186069501), Signal(time=22.0, value=1.9218347741625057), Signal(time=23.0, value=1.9602347741625057), Signal(time=24.0, value=1.9972170226832158), Signal(time=25.0, value=2.03288231760777), Signal(time=26.0, value=2.0673210931179744), Signal(time=27.0, value=2.100614791096571), Signal(time=28.0, value=2.1328370133187935), Signal(time=29.0, value=2.1640544951085956), Signal(time=30.0, value=2.1943279326085956), Signal(time=31.0, value=2.2237126892660797), Signal(time=32.0, value=2.252259402068848), Signal(time=33.0, value=2.280014504109664), Signal(time=34.0, value=2.3070206769491706), Signal(time=35.0, value=2.333317243786278), Signal(time=36.0, value=2.358940512484339), Signal(time=37.0, value=2.383924075929441), Signal(time=38.0, value=2.408299075929441), Signal(time=39.0, value=2.4320944358342595), Signal(time=40.0, value=2.455337066219747), Signal(time=41.0, value=2.4780520472905962), Signal(time=42.0, value=2.5002627910922492), Signal(time=43.0, value=2.5219911861539774), Signal(time=44.0, value=2.5432577267966994), Signal(time=45.0, value=2.564081629014898), Signal(time=46.0, value=2.584480934570453), Signal(time=47.0, value=2.6044726047078957), Signal(time=48.0, value=2.6240726047078957), Signal(time=49.0, value=2.6432959803326552), Signal(time=50.0, value=2.6621569270782173), Signal(time=51.0, value=2.6806688530305136), Signal(time=52.0, value=2.6988444360209116), Signal(time=53.0, value=2.716695675690333), Signal(time=54.0, value=2.7342339409964556), Signal(time=55.0, value=2.75147001363419), Signal(time=56.0, value=2.7684141277840117), Signal(time=57.0, value=2.78507600655448), Signal(time=58.0, value=2.801464895443369), Signal(time=59.0, value=2.817589593105288), Signal(time=60.0, value=2.8334584796817706), Signal(time=61.0, value=2.8490795429218814), Signal(time=62.0, value=2.8644604022968814), Signal(time=63.0, value=2.879608331290964), Signal(time=64.0, value=2.894530278031093), Signal(time=65.0, value=2.9092328844022224), Signal(time=66.0, value=2.923722503779385), Signal(time=67.0, value=2.938005217494991), Signal(time=68.0, value=2.952086850148052), Signal(time=69.0, value=2.965972983851682), Signal(time=70.0, value=2.979668971506003), Signal(time=71.0, value=2.9931799491753592), Signal(time=72.0, value=3.0065108476413926), Signal(time=73.0, value=3.0196664031969482), Signal(time=74.0, value=3.0326511677398846), Signal(time=75.0, value=3.045469518220573), Signal(time=76.0, value=3.058125665492105), Signal(time=77.0, value=3.070623662607952), Signal(time=78.0, value=3.082967412607952), Signal(time=79.0, value=3.0951606758300216), Signal(time=80.0, value=3.107207076781836), Signal(time=81.0, value=3.119110110603871), Signal(time=82.0, value=3.130873149152624), Signal(time=83.0, value=3.1424994467304783), Signal(time=84.0, value=3.1539921454865625), Signal(time=85.0, value=3.1653542805110044), Signal(time=86.0, value=3.176588784643236), Signal(time=87.0, value=3.187698493013391), Signal(time=88.0, value=3.198686147334379), Signal(time=89.0, value=3.209554399960873), Signal(time=90.0, value=3.2203058177302495), Signal(time=91.0, value=3.2309428855993674), Signal(time=92.0, value=3.2414680100900872), Signal(time=93.0, value=3.251883522555461), Signal(time=94.0, value=3.2621916822776833), Signal(time=95.0, value=3.2723946794080905), Signal(time=96.0, value=3.2824946377587776), Signal(time=97.0, value=3.292493617454727), Signal(time=98.0, value=3.302393617454727), Signal(time=99.0, value=3.312196577948796)]\n"
     ]
    }
   ],
   "execution_count": 21
  }
 ],
 "metadata": {
  "language_info": {
   "name": "python"
  },
  "kernelspec": {
   "name": "python3",
   "language": "python",
   "display_name": "Python 3 (ipykernel)"
  }
 },
 "nbformat": 4,
 "nbformat_minor": 2
}
