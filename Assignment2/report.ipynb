{
 "cells": [
  {
   "cell_type": "markdown",
   "metadata": {},
   "source": [
    "# Integration Methods\n",
    "## 1\n",
    "### Basic inigrator tester (niet in verslag)\n",
    "##### used to test if integrator blocks work with the clock as input (x = x)"
   ]
  },
  {
   "cell_type": "code",
   "metadata": {
    "ExecuteTime": {
     "end_time": "2024-11-06T16:14:17.687695Z",
     "start_time": "2024-11-06T16:14:17.672837Z"
    }
   },
   "source": [
    "from CBD.src.pyCBD.lib.std import TimeBlock, ConstantBlock\n",
    "from pyCBD.simulator import Simulator\n",
    "from DrawioFiles.generated.Backwards_Euler_Method import *\n",
    "\n",
    "class basic_intregral_tester(CBD):\n",
    "    def __init__(self, block_name, block_to_test):\n",
    "        super().__init__(block_name, input_ports=[], output_ports=['OUT1'])\n",
    "\n",
    "        # Create the Blocks\n",
    "        self.addBlock(TimeBlock(\"Clock_item\"))\n",
    "        self.addBlock(ConstantBlock(\"Constant_item\"))\n",
    "        self.addBlock(block_to_test)\n",
    "\n",
    "        # Create the Connections\n",
    "        self.addConnection(\"Clock_item\", block_to_test.getBlockName(), output_port_name=\"OUT1\", input_port_name=\"IN1\")\n",
    "        self.addConnection(\"Constant_item\", block_to_test.getBlockName(), output_port_name='OUT1', input_port_name=\"IC\")\n",
    "        self.addConnection(block_to_test.getBlockName(), \"OUT1\", output_port_name='OUT1')"
   ],
   "outputs": [],
   "execution_count": 3
  },
  {
   "cell_type": "markdown",
   "metadata": {},
   "source": [
    "### Backwards Euler\n",
    "##### First generate the python using the draw.io file \\\n",
    "![image info](./DrawioFiles/ImageExports/Backwards_Euler_Method.drawio.png) \\\n",
    "Remake image:"
   ]
  },
  {
   "metadata": {
    "ExecuteTime": {
     "end_time": "2024-11-06T16:14:21.946586Z",
     "start_time": "2024-11-06T16:14:17.697789Z"
    }
   },
   "cell_type": "code",
   "source": "! drawio -x -f png -o ./DrawioFiles/ImageExports/Backwards_Euler_Method.drawio.png ./DrawioFiles/Backwards_Euler_Method.drawio",
   "outputs": [
    {
     "name": "stdout",
     "output_type": "stream",
     "text": [
      "Checking for beta autoupdate feature for deb/rpm distributions\r\n",
      "Found package-type: deb\r\n",
      "./DrawioFiles/Backwards_Euler_Method.drawio -> ./DrawioFiles/ImageExports/Backwards_Euler_Method.drawio.png\r\n"
     ]
    }
   ],
   "execution_count": 4
  },
  {
   "metadata": {
    "ExecuteTime": {
     "end_time": "2024-11-06T16:14:22.196299Z",
     "start_time": "2024-11-06T16:14:21.957419Z"
    }
   },
   "cell_type": "code",
   "source": "! python DrawioConvert/__main__.py -F CBD -e backwards_euler_method -sSrgv ./DrawioFiles/Backwards_Euler_Method.drawio -E delta=1 -d ./DrawioFiles/generated/ -f",
   "outputs": [
    {
     "name": "stdout",
     "output_type": "stream",
     "text": [
      "[  DEBUG  ] Loading Formalism...\r\n",
      "[  DEBUG  ] Loaded Formalism.\r\n",
      "[  DEBUG  ] Generated './DrawioFiles/generated/Backwards_Euler_Method.py'.\r\n",
      "[  DEBUG  ] Generated './DrawioFiles/generated/Backwards_Euler_Method_experiment.py'.\r\n",
      "[  DEBUG  ] Done.\r\n"
     ]
    }
   ],
   "execution_count": 5
  },
  {
   "cell_type": "code",
   "metadata": {
    "ExecuteTime": {
     "end_time": "2024-11-06T16:14:22.223594Z",
     "start_time": "2024-11-06T16:14:22.209005Z"
    }
   },
   "source": [
    "from DrawioFiles.generated.Backwards_Euler_Method import *\n",
    "DELTA_T = 1\n",
    "\n",
    "backwards_euler_tester = backwards_eurler_method(\"backwards_euler_tester\")\n",
    "cbd = basic_intregral_tester(\"tester\", backwards_euler_tester)\n",
    "\n",
    "comperisionBlock = basic_intregral_tester(\"tester\", IntegratorBlock(\"Intigrator\"))\n",
    "\n",
    "# Run the Simulation\n",
    "sim = Simulator(cbd)\n",
    "sim.setDeltaT(DELTA_T)\n",
    "sim.run(10)\n",
    "\n",
    "sim = Simulator(comperisionBlock)\n",
    "sim.setDeltaT(DELTA_T)\n",
    "sim.run(10)\n",
    "\n",
    "\n",
    "print(cbd.getSignals())\n",
    "\n",
    "correct = True\n",
    "for i, compareItem in enumerate(cbd.getSignals()['OUT1']):\n",
    "    if compareItem != comperisionBlock.getSignals()['OUT1'][i]:\n",
    "        correct = False\n",
    "if correct:\n",
    "    print(\"Backward euler is correct\")\n",
    "else:\n",
    "    print(\"Backward euler is incorect\")\n",
    "# TODO: Process Your Simulation Results"
   ],
   "outputs": [
    {
     "name": "stdout",
     "output_type": "stream",
     "text": [
      "{'OUT1': [Signal(time=0.0, value=0.0), Signal(time=1.0, value=0.0), Signal(time=2.0, value=1.0), Signal(time=3.0, value=3.0), Signal(time=4.0, value=6.0), Signal(time=5.0, value=10.0), Signal(time=6.0, value=15.0), Signal(time=7.0, value=21.0), Signal(time=8.0, value=28.0), Signal(time=9.0, value=36.0)]}\n",
      "Backward euler is correct\n"
     ]
    }
   ],
   "execution_count": 6
  },
  {
   "metadata": {},
   "cell_type": "markdown",
   "source": [
    "### Forward Euler\n",
    "##### First generate the python using the draw.io file\n",
    "![image info](./DrawioFiles/ImageExports/Forward_Euler_Method.drawio.png) \\\n",
    "remake image:"
   ]
  },
  {
   "metadata": {
    "ExecuteTime": {
     "end_time": "2024-11-06T16:14:26.279842Z",
     "start_time": "2024-11-06T16:14:22.271620Z"
    }
   },
   "cell_type": "code",
   "source": "! drawio -x -f png -o ./DrawioFiles/ImageExports/Forward_Euler_Method.drawio.png ./DrawioFiles/Forward_Euler_Method.drawio",
   "outputs": [
    {
     "name": "stdout",
     "output_type": "stream",
     "text": [
      "Checking for beta autoupdate feature for deb/rpm distributions\r\n",
      "Found package-type: deb\r\n",
      "[38589:1106/171425.110269:ERROR:gl_surface_presentation_helper.cc(260)] GetVSyncParametersIfAvailable() failed for 1 times!\r\n",
      "./DrawioFiles/Forward_Euler_Method.drawio -> ./DrawioFiles/ImageExports/Forward_Euler_Method.drawio.png\r\n"
     ]
    }
   ],
   "execution_count": 7
  },
  {
   "metadata": {
    "ExecuteTime": {
     "end_time": "2024-11-06T16:14:26.522662Z",
     "start_time": "2024-11-06T16:14:26.290635Z"
    }
   },
   "cell_type": "code",
   "source": "! python DrawioConvert/__main__.py -F CBD -e forward_euler_method -sSrgv ./DrawioFiles/Forward_Euler_Method.drawio -E delta=1 -d ./DrawioFiles/generated/ -f",
   "outputs": [
    {
     "name": "stdout",
     "output_type": "stream",
     "text": [
      "[  DEBUG  ] Loading Formalism...\r\n",
      "[  DEBUG  ] Loaded Formalism.\r\n",
      "[  DEBUG  ] Generated './DrawioFiles/generated/Forward_Euler_Method.py'.\r\n",
      "[  DEBUG  ] Generated './DrawioFiles/generated/Forward_Euler_Method_experiment.py'.\r\n",
      "[  DEBUG  ] Done.\r\n"
     ]
    }
   ],
   "execution_count": 8
  },
  {
   "metadata": {
    "ExecuteTime": {
     "end_time": "2024-11-06T16:14:26.538960Z",
     "start_time": "2024-11-06T16:14:26.531735Z"
    }
   },
   "cell_type": "code",
   "source": [
    "from DrawioFiles.generated.Forward_Euler_Method import *\n",
    "DELTA_T = 1\n",
    "\n",
    "forward_euler = forward_euler_method(\"forward_euler_method\")\n",
    "cbd = basic_intregral_tester(\"tester\", forward_euler)\n",
    "\n",
    "# Run the Simulation\n",
    "sim = Simulator(cbd)\n",
    "sim.setDeltaT(DELTA_T)\n",
    "sim.run(10)\n",
    "print(cbd.getSignals())"
   ],
   "outputs": [
    {
     "name": "stdout",
     "output_type": "stream",
     "text": [
      "{'OUT1': [Signal(time=0.0, value=0.0), Signal(time=1.0, value=1.0), Signal(time=2.0, value=3.0), Signal(time=3.0, value=6.0), Signal(time=4.0, value=10.0), Signal(time=5.0, value=15.0), Signal(time=6.0, value=21.0), Signal(time=7.0, value=28.0), Signal(time=8.0, value=36.0), Signal(time=9.0, value=45.0)]}\n"
     ]
    }
   ],
   "execution_count": 9
  },
  {
   "metadata": {},
   "cell_type": "markdown",
   "source": [
    "### Trapiziod rule\n",
    "##### First generate the python using the draw.io file\n",
    "![image info](./DrawioFiles/ImageExports/Trapezoid_Rule.drawio.png)\n",
    "Remake image"
   ]
  },
  {
   "metadata": {
    "ExecuteTime": {
     "end_time": "2024-11-06T16:14:30.480455Z",
     "start_time": "2024-11-06T16:14:26.638150Z"
    }
   },
   "cell_type": "code",
   "source": "! drawio -x -f png -o ./DrawioFiles/ImageExports/Trapezoid_Rule.drawio.png ./DrawioFiles/Trapezoid_Rule.drawio",
   "outputs": [
    {
     "name": "stdout",
     "output_type": "stream",
     "text": [
      "Checking for beta autoupdate feature for deb/rpm distributions\r\n",
      "Found package-type: deb\r\n",
      "./DrawioFiles/Trapezoid_Rule.drawio -> ./DrawioFiles/ImageExports/Trapezoid_Rule.drawio.png\r\n"
     ]
    }
   ],
   "execution_count": 10
  },
  {
   "metadata": {
    "ExecuteTime": {
     "end_time": "2024-11-06T16:33:38.402301Z",
     "start_time": "2024-11-06T16:33:38.163147Z"
    }
   },
   "cell_type": "code",
   "source": "! python DrawioConvert/__main__.py -F CBD -e trapezoid_rule -sSrgv ./DrawioFiles/Trapezoid_Rule.drawio -E delta=1 -d ./DrawioFiles/generated/ -f",
   "outputs": [
    {
     "name": "stdout",
     "output_type": "stream",
     "text": [
      "[  DEBUG  ] Loading Formalism...\r\n",
      "[  DEBUG  ] Loaded Formalism.\r\n",
      "[  DEBUG  ] Generated './DrawioFiles/generated/Trapezoid_Rule.py'.\r\n",
      "[  DEBUG  ] Generated './DrawioFiles/generated/Trapezoid_Rule_experiment.py'.\r\n",
      "[  DEBUG  ] Done.\r\n"
     ]
    }
   ],
   "execution_count": 24
  },
  {
   "metadata": {
    "ExecuteTime": {
     "end_time": "2024-11-06T16:33:44.669619Z",
     "start_time": "2024-11-06T16:33:44.638585Z"
    }
   },
   "cell_type": "code",
   "source": [
    "from DrawioFiles.generated.Trapezoid_Rule import *\n",
    "from pyCBD.simulator import Simulator\n",
    "        \n",
    "DELTA_T = 1\n",
    "\n",
    "trapezoid = trapezoid_rule(\"trapezoid_rule\")\n",
    "cbd = basic_intregral_tester(\"trapezoid_euler_method\", trapezoid)\n",
    "\n",
    "# Run the Simulation\n",
    "sim = Simulator(cbd)\n",
    "sim.setDeltaT(DELTA_T)\n",
    "sim.run(10)\n",
    "print(cbd.getSignals())"
   ],
   "outputs": [
    {
     "name": "stdout",
     "output_type": "stream",
     "text": [
      "{'OUT1': [Signal(time=0.0, value=0.0), Signal(time=1.0, value=0.5), Signal(time=2.0, value=2.0), Signal(time=3.0, value=4.5), Signal(time=4.0, value=8.0), Signal(time=5.0, value=12.5), Signal(time=6.0, value=18.0), Signal(time=7.0, value=24.5), Signal(time=8.0, value=32.0), Signal(time=9.0, value=40.5)]}\n"
     ]
    }
   ],
   "execution_count": 28
  },
  {
   "metadata": {},
   "cell_type": "markdown",
   "source": [
    "## 2 function g(t)\n",
    "##### First generate the python using the draw.io file\n",
    "![image info](./DrawioFiles/ImageExports/g_Function.drawio.png)\n",
    "Remake image:"
   ]
  },
  {
   "metadata": {
    "ExecuteTime": {
     "end_time": "2024-11-06T16:14:34.574995Z",
     "start_time": "2024-11-06T16:14:30.795048Z"
    }
   },
   "cell_type": "code",
   "source": "! drawio -x -f png -o ./DrawioFiles/ImageExports/g_Function.drawio.png ./DrawioFiles/g_Function.drawio",
   "outputs": [
    {
     "name": "stdout",
     "output_type": "stream",
     "text": [
      "Checking for beta autoupdate feature for deb/rpm distributions\r\n",
      "Found package-type: deb\r\n",
      "[38818:1106/171433.420480:ERROR:gl_surface_presentation_helper.cc(260)] GetVSyncParametersIfAvailable() failed for 1 times!\r\n",
      "./DrawioFiles/g_Function.drawio -> ./DrawioFiles/ImageExports/g_Function.drawio.png\r\n"
     ]
    }
   ],
   "execution_count": 13
  },
  {
   "metadata": {
    "ExecuteTime": {
     "end_time": "2024-11-06T16:14:34.801664Z",
     "start_time": "2024-11-06T16:14:34.580771Z"
    }
   },
   "cell_type": "code",
   "source": "! python DrawioConvert/__main__.py -F CBD -e g_function -sSrgv ./DrawioFiles/g_Function.drawio -E delta=1 -d ./DrawioFiles/generated/ -f",
   "outputs": [
    {
     "name": "stdout",
     "output_type": "stream",
     "text": [
      "[  DEBUG  ] Loading Formalism...\r\n",
      "[  DEBUG  ] Loaded Formalism.\r\n",
      "[  DEBUG  ] Generated './DrawioFiles/generated/g_Function.py'.\r\n",
      "[  DEBUG  ] Generated './DrawioFiles/generated/g_Function_experiment.py'.\r\n",
      "[  DEBUG  ] Done.\r\n"
     ]
    }
   ],
   "execution_count": 14
  },
  {
   "metadata": {},
   "cell_type": "markdown",
   "source": "#### Create CBD to connect integrators with g(f)"
  },
  {
   "metadata": {
    "ExecuteTime": {
     "end_time": "2024-11-06T16:14:34.821014Z",
     "start_time": "2024-11-06T16:14:34.812766Z"
    }
   },
   "cell_type": "code",
   "source": [
    "from CBD.src.pyCBD.lib.std import TimeBlock, ConstantBlock\n",
    "from pyCBD.simulator import Simulator\n",
    "from DrawioFiles.generated.g_Function import *\n",
    "\n",
    "\n",
    "class g_function_integrator_tester(CBD):\n",
    "    def __init__(self, block_name, integrator):\n",
    "        super().__init__(block_name, input_ports=[], output_ports=['OUT1', 'Gt'])\n",
    "\n",
    "        # Create the Blocks\n",
    "        self.addBlock(TimeBlock(\"Clock_item\"))\n",
    "        self.addBlock(g_function(\"g_function\"))\n",
    "        self.addBlock(integrator)\n",
    "        #self.addBlock(g_function(\"g_function_initial\"))\n",
    "        \n",
    "        constBlock = ConstantBlock(\"Constant_item\")\n",
    "        constBlock.setValue(0)\n",
    "        self.addBlock(constBlock)\n",
    "        \n",
    "        # Create the Connections\n",
    "        self.addConnection(\"Clock_item\", \"g_function\", output_port_name=\"OUT1\", input_port_name=\"T\")\n",
    "        #self.addConnection(\"Constant_item\", \"g_function_initial\", output_port_name='OUT1', input_port_name=\"T\")\n",
    "        self.addConnection(\"Constant_item\", integrator.getBlockName(), output_port_name='OUT1', input_port_name=\"IC\")\n",
    "        self.addConnection(\"g_function\", integrator.getBlockName(), output_port_name='OUT1', input_port_name=\"IN1\")\n",
    "        self.addConnection(integrator.getBlockName(), \"OUT1\", output_port_name='OUT1')\n",
    "        self.addConnection(\"g_function\", \"Gt\", output_port_name='OUT1')\n",
    "\n"
   ],
   "outputs": [],
   "execution_count": 15
  },
  {
   "metadata": {},
   "cell_type": "markdown",
   "source": "#### Test g(f) on Backwards Euler Method"
  },
  {
   "metadata": {
    "ExecuteTime": {
     "end_time": "2024-11-06T16:14:38.701133Z",
     "start_time": "2024-11-06T16:14:34.855059Z"
    }
   },
   "cell_type": "code",
   "source": [
    "from DrawioFiles.generated.Backwards_Euler_Method import *\n",
    "DELTA_T = 0.01\n",
    "\n",
    "backwards_euler = backwards_eurler_method(\"backwards_euler\")\n",
    "cbd = g_function_integrator_tester(\"tester\", backwards_euler)\n",
    "\n",
    "\n",
    "# Run the Simulation\n",
    "sim = Simulator(cbd)\n",
    "sim.setDeltaT(DELTA_T)\n",
    "sim.run(100)\n",
    "\n",
    "\n",
    "comperisionBlock = g_function_integrator_tester(\"tester1\", IntegratorBlock(\"Intigrator\"))\n",
    "\n",
    "sim = Simulator(comperisionBlock)\n",
    "sim.setDeltaT(DELTA_T)\n",
    "sim.run(100)\n",
    "\n",
    "\n",
    "correct = True\n",
    "# \n",
    "# for i, compareItem in enumerate(cbd.getSignals()['OUT1']):\n",
    "#     print(compareItem,\" != \", comperisionBlock.getSignals()['OUT1'][i])\n",
    "#     if compareItem != comperisionBlock.getSignals()['OUT1'][i]:\n",
    "#         correct = False\n",
    "print(cbd.getSignals()['OUT1'].pop(), comperisionBlock.getSignals()['OUT1'].pop())\n",
    "if correct:\n",
    "    print(\"Backward euler is correct\")\n",
    "else:\n",
    "    print(\"Backward euler is incorect\")"
   ],
   "outputs": [
    {
     "name": "stdout",
     "output_type": "stream",
     "text": [
      "Signal(time=99.99000000001425, value=3.2134592966575024) Signal(time=99.99000000001425, value=3.2134592966575024)\n",
      "Backward euler is correct\n"
     ]
    }
   ],
   "execution_count": 16
  },
  {
   "metadata": {},
   "cell_type": "markdown",
   "source": "#### Test g(f) on Forward Euler Method"
  },
  {
   "metadata": {
    "ExecuteTime": {
     "end_time": "2024-11-06T16:14:57.587504Z",
     "start_time": "2024-11-06T16:14:57.427004Z"
    }
   },
   "cell_type": "code",
   "source": [
    "from DrawioFiles.generated.Backwards_Euler_Method import *\n",
    "DELTA_T = 0.1\n",
    "\n",
    "forward_euler = forward_euler_method(\"forward_euler\")\n",
    "cbd = g_function_integrator_tester(\"tester\", forward_euler)\n",
    "\n",
    "# Run the Simulation\n",
    "sim = Simulator(cbd)\n",
    "sim.setDeltaT(DELTA_T)\n",
    "sim.run(100)\n",
    "# \n",
    "# for i, compareItem in enumerate(cbd.getSignals()['OUT1']):\n",
    "#     print(compareItem,\" != \", comperisionBlock.getSignals()['OUT1'][i])\n",
    "#     if compareItem != comperisionBlock.getSignals()['OUT1'][i]:\n",
    "#         correct = False\n",
    "print(cbd.getSignals()['OUT1'].pop())"
   ],
   "outputs": [
    {
     "name": "stdout",
     "output_type": "stream",
     "text": [
      "Signal(time=99.8999999999986, value=3.2009310596645353)\n"
     ]
    }
   ],
   "execution_count": 19
  },
  {
   "metadata": {},
   "cell_type": "markdown",
   "source": "#### Test g(f) on Trapiziod rule"
  },
  {
   "metadata": {
    "ExecuteTime": {
     "end_time": "2024-11-06T16:34:31.916218Z",
     "start_time": "2024-11-06T16:34:31.883318Z"
    }
   },
   "cell_type": "code",
   "source": [
    "from DrawioFiles.generated.Backwards_Euler_Method import *\n",
    "DELTA_T = 1\n",
    "\n",
    "trapezoid = trapezoid_rule(\"trapezoid\")\n",
    "cbd = g_function_integrator_tester(\"tester\", trapezoid)\n",
    "\n",
    "# Run the Simulation\n",
    "sim = Simulator(cbd)\n",
    "sim.setDeltaT(DELTA_T)\n",
    "sim.run(100)\n",
    "\n",
    "correct = True\n",
    "# \n",
    "# for i, compareItem in enumerate(cbd.getSignals()['OUT1']):\n",
    "#     print(compareItem,\" != \", comperisionBlock.getSignals()['OUT1'][i])\n",
    "#     if compareItem != comperisionBlock.getSignals()['OUT1'][i]:\n",
    "#         correct = False\n",
    "print(cbd.getSignals()['OUT1'].pop())\n",
    "if correct:\n",
    "    print(\"Backward euler is correct\")\n",
    "else:\n",
    "    print(\"Backward euler is incorect\")"
   ],
   "outputs": [
    {
     "name": "stdout",
     "output_type": "stream",
     "text": [
      "Signal(time=99.0, value=3.317050480294049)\n",
      "Backward euler is correct\n"
     ]
    }
   ],
   "execution_count": 31
  }
 ],
 "metadata": {
  "language_info": {
   "name": "python"
  },
  "kernelspec": {
   "name": "python3",
   "language": "python",
   "display_name": "Python 3 (ipykernel)"
  }
 },
 "nbformat": 4,
 "nbformat_minor": 2
}
